{
 "cells": [
  {
   "cell_type": "markdown",
   "source": [
    "probando esta cosa como funciona no la conozco pero se ve loca\n",
    "probando cuantos tests puede tenr\n",
    "pero no estoy seguro jajaja"
   ],
   "metadata": {}
  },
  {
   "cell_type": "markdown",
   "source": [],
   "metadata": {}
  },
  {
   "cell_type": "code",
   "execution_count": null,
   "source": [
    "const testing = function(parameter: string): string {\n",
    "\treturn `parameter ${parameter}`\n",
    "}"
   ],
   "outputs": [],
   "metadata": {}
  }
 ],
 "metadata": {
  "orig_nbformat": 4,
  "language_info": {
   "name": "python"
  }
 },
 "nbformat": 4,
 "nbformat_minor": 2
}